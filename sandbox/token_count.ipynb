{
 "cells": [
  {
   "metadata": {},
   "cell_type": "markdown",
   "source": "Messy code for counting tokens from the experiments.",
   "id": "4a8d67b994e76249"
  },
  {
   "cell_type": "code",
   "id": "initial_id",
   "metadata": {
    "collapsed": true,
    "ExecuteTime": {
     "end_time": "2024-12-02T14:41:25.972082Z",
     "start_time": "2024-12-02T14:41:25.749960Z"
    }
   },
   "source": [
    "from collections import Counter\n",
    "\n",
    "from redel.utils import read_jsonl\n",
    "\n",
    "\n",
    "# from the docs\n",
    "def count_tokens(fp):\n",
    "    tokens_used_prompt = Counter()\n",
    "    tokens_used_output = Counter()\n",
    "    for event in read_jsonl(fp):\n",
    "        if event[\"type\"] == \"tokens_used\":\n",
    "            tokens_used_prompt[event[\"id\"]] += event[\"prompt_tokens\"]\n",
    "            tokens_used_output[event[\"id\"]] += event[\"completion_tokens\"]\n",
    "    return tokens_used_prompt, tokens_used_output"
   ],
   "outputs": [],
   "execution_count": 1
  },
  {
   "metadata": {
    "ExecuteTime": {
     "end_time": "2024-12-02T14:41:25.974662Z",
     "start_time": "2024-12-02T14:41:25.973144Z"
    }
   },
   "cell_type": "code",
   "source": [
    "from pathlib import Path\n",
    "\n",
    "# define base experiments path\n",
    "EXPERIMENTS = Path(\"/Users/andrew/Desktop/Code/_penn/redel-experiments/experiments\")"
   ],
   "id": "2cf069ad681dfd06",
   "outputs": [],
   "execution_count": 2
  },
  {
   "metadata": {
    "ExecuteTime": {
     "end_time": "2024-12-02T14:41:25.979243Z",
     "start_time": "2024-12-02T14:41:25.975169Z"
    }
   },
   "cell_type": "code",
   "source": [
    "import json\n",
    "\n",
    "\n",
    "def count_system(fp, root_input_cost_1m, root_output_cost_1m, del_input_cost_1m=0, del_output_cost_1m=0):\n",
    "    if not fp.exists():\n",
    "        return 0, 0\n",
    "    # get all event paths in system\n",
    "    event_paths = []\n",
    "    for result in read_jsonl(fp / \"results.jsonl\"):\n",
    "        event_paths.append(fp / Path(result[\"log_dir\"]).stem / \"events.jsonl\")\n",
    "\n",
    "    n = len(event_paths)\n",
    "    total_prompt_tokens_root = 0\n",
    "    total_output_tokens_root = 0\n",
    "    total_prompt_tokens_del = 0\n",
    "    total_output_tokens_del = 0\n",
    "    # for each run,\n",
    "    for ep in event_paths:\n",
    "        # find the root node ID\n",
    "        with open(ep.parent / \"state.json\") as f:\n",
    "            state = json.load(f)\n",
    "            root_id = state[\"state\"][0][\"id\"]\n",
    "\n",
    "        # count tokens by root and by del\n",
    "        prompt_tokens, output_tokens = count_tokens(ep)\n",
    "        prompt_tokens_root = prompt_tokens[root_id]\n",
    "        output_tokens_root = output_tokens[root_id]\n",
    "\n",
    "        total_prompt_tokens_root += prompt_tokens_root\n",
    "        total_output_tokens_root += output_tokens_root\n",
    "        total_prompt_tokens_del += prompt_tokens.total() - prompt_tokens_root\n",
    "        total_output_tokens_del += output_tokens.total() - output_tokens_root\n",
    "\n",
    "    # m a t h\n",
    "    # (I should have used a dict but I did this in like 10 minutes don't judge me)\n",
    "    avg_prompt_tokens_root = total_prompt_tokens_root / n\n",
    "    avg_output_tokens_root = total_output_tokens_root / n\n",
    "    avg_prompt_tokens_del = total_prompt_tokens_del / n\n",
    "    avg_output_tokens_del = total_output_tokens_del / n\n",
    "\n",
    "    avg_prompt_cost_root = avg_prompt_tokens_root * root_input_cost_1m / 1000000\n",
    "    avg_output_cost_root = avg_output_tokens_root * root_output_cost_1m / 1000000\n",
    "    avg_prompt_cost_del = avg_prompt_tokens_del * del_input_cost_1m / 1000000\n",
    "    avg_output_cost_del = avg_output_tokens_del * del_output_cost_1m / 1000000\n",
    "\n",
    "    total_cost = (avg_prompt_cost_root + avg_output_cost_root + avg_prompt_cost_del + avg_output_cost_del) * n\n",
    "\n",
    "    print(f\"========== {fp} ==========\")\n",
    "    print(f\"Avg prompt tokens root: {avg_prompt_tokens_root} (${avg_prompt_cost_root})\")\n",
    "    print(f\"Avg output tokens root: {avg_output_tokens_root} (${avg_output_cost_root})\")\n",
    "    print(f\"Avg prompt tokens del: {avg_prompt_tokens_del} (${avg_prompt_cost_del})\")\n",
    "    print(f\"Avg output tokens del: {avg_output_tokens_del} (${avg_output_cost_del})\")\n",
    "    print(f\"N: {n}\")\n",
    "    print(f\"Total cost: ${total_cost}\")\n",
    "\n",
    "    return total_cost, n"
   ],
   "id": "ef27edcba63c966a",
   "outputs": [],
   "execution_count": 3
  },
  {
   "metadata": {
    "ExecuteTime": {
     "end_time": "2024-12-02T14:41:27.035496Z",
     "start_time": "2024-12-02T14:41:25.980586Z"
    }
   },
   "cell_type": "code",
   "source": [
    "count_system(\n",
    "    EXPERIMENTS / Path(\"fanoutqa/dev/trial2/small-leaf\"),\n",
    "    root_input_cost_1m=5,\n",
    "    root_output_cost_1m=15,\n",
    "    del_input_cost_1m=0.5,\n",
    "    del_output_cost_1m=1.5,\n",
    ")\n",
    "count_system(\n",
    "    EXPERIMENTS / Path(\"travelplanner/validation/small-leaf\"),\n",
    "    root_input_cost_1m=5,\n",
    "    root_output_cost_1m=15,\n",
    "    del_input_cost_1m=0.5,\n",
    "    del_output_cost_1m=1.5,\n",
    ")\n",
    "count_system(\n",
    "    EXPERIMENTS / Path(\"webarena/test/small-leaf\"),\n",
    "    root_input_cost_1m=5,\n",
    "    root_output_cost_1m=15,\n",
    "    del_input_cost_1m=0.5,\n",
    "    del_output_cost_1m=1.5,\n",
    ")"
   ],
   "id": "8d9fb5df40fe9ebd",
   "outputs": [
    {
     "name": "stdout",
     "output_type": "stream",
     "text": [
      "========== /Users/andrew/Desktop/Code/_penn/redel-experiments/experiments/fanoutqa/dev/trial2/small-leaf ==========\n",
      "Avg prompt tokens root: 1913.8733766233765 ($0.009569366883116883)\n",
      "Avg output tokens root: 363.4642857142857 ($0.0054519642857142865)\n",
      "Avg prompt tokens del: 28171.0 ($0.0140855)\n",
      "Avg output tokens del: 509.6818181818182 ($0.0007645227272727273)\n",
      "N: 308\n",
      "Total cost: $9.200377000000001\n",
      "========== /Users/andrew/Desktop/Code/_penn/redel-experiments/experiments/travelplanner/validation/small-leaf ==========\n",
      "Avg prompt tokens root: 7912.888888888889 ($0.039564444444444444)\n",
      "Avg output tokens root: 1018.7333333333333 ($0.015281)\n",
      "Avg prompt tokens del: 9192.044444444444 ($0.0045960222222222215)\n",
      "Avg output tokens del: 1121.0833333333333 ($0.001681625)\n",
      "N: 180\n",
      "Total cost: $11.0021565\n",
      "========== /Users/andrew/Desktop/Code/_penn/redel-experiments/experiments/webarena/test/small-leaf ==========\n",
      "Avg prompt tokens root: 55456.268 ($0.27728134)\n",
      "Avg output tokens root: 171.884 ($0.0025782599999999998)\n",
      "Avg prompt tokens del: 222370.916 ($0.111185458)\n",
      "Avg output tokens del: 740.764 ($0.001111146)\n",
      "N: 250\n",
      "Total cost: $98.039051\n"
     ]
    },
    {
     "data": {
      "text/plain": [
       "(98.039051, 250)"
      ]
     },
     "execution_count": 4,
     "metadata": {},
     "output_type": "execute_result"
    }
   ],
   "execution_count": 4
  },
  {
   "metadata": {
    "ExecuteTime": {
     "end_time": "2024-12-02T14:41:28.062826Z",
     "start_time": "2024-12-02T14:41:27.036065Z"
    }
   },
   "cell_type": "code",
   "source": [
    "count_system(EXPERIMENTS / Path(\"fanoutqa/dev/trial2/baseline\"), root_input_cost_1m=5, root_output_cost_1m=15)\n",
    "count_system(EXPERIMENTS / Path(\"travelplanner/validation/baseline\"), root_input_cost_1m=5, root_output_cost_1m=15)\n",
    "count_system(EXPERIMENTS / Path(\"webarena/test/baseline\"), root_input_cost_1m=5, root_output_cost_1m=15)"
   ],
   "id": "43d244405b77aaf",
   "outputs": [
    {
     "name": "stdout",
     "output_type": "stream",
     "text": [
      "========== /Users/andrew/Desktop/Code/_penn/redel-experiments/experiments/fanoutqa/dev/trial2/baseline ==========\n",
      "Avg prompt tokens root: 65899.60586319218 ($0.3294980293159609)\n",
      "Avg output tokens root: 324.8371335504886 ($0.004872557003257329)\n",
      "Avg prompt tokens del: 0.0 ($0.0)\n",
      "Avg output tokens del: 0.0 ($0.0)\n",
      "N: 307\n",
      "Total cost: $102.65177\n",
      "========== /Users/andrew/Desktop/Code/_penn/redel-experiments/experiments/travelplanner/validation/baseline ==========\n",
      "Avg prompt tokens root: 42591.40555555555 ($0.21295702777777775)\n",
      "Avg output tokens root: 1224.5611111111111 ($0.01836841666666667)\n",
      "Avg prompt tokens del: 0.0 ($0.0)\n",
      "Avg output tokens del: 0.0 ($0.0)\n",
      "N: 180\n",
      "Total cost: $41.63858\n",
      "========== /Users/andrew/Desktop/Code/_penn/redel-experiments/experiments/webarena/test/baseline ==========\n",
      "Avg prompt tokens root: 145537.47430830039 ($0.727687371541502)\n",
      "Avg output tokens root: 168.6798418972332 ($0.002530197628458498)\n",
      "Avg prompt tokens del: 0.0 ($0.0)\n",
      "Avg output tokens del: 0.0 ($0.0)\n",
      "N: 253\n",
      "Total cost: $184.745045\n"
     ]
    },
    {
     "data": {
      "text/plain": [
       "(184.745045, 253)"
      ]
     },
     "execution_count": 5,
     "metadata": {},
     "output_type": "execute_result"
    }
   ],
   "execution_count": 5
  },
  {
   "metadata": {
    "ExecuteTime": {
     "end_time": "2024-12-02T14:41:28.065028Z",
     "start_time": "2024-12-02T14:41:28.063426Z"
    }
   },
   "cell_type": "code",
   "source": [
    "total_cost_small_leaf = 9.200377 + 11.0021565 + 98.039051\n",
    "total_cost_baseline = 102.65177 + 41.63858 + 184.745045\n",
    "print(total_cost_small_leaf, total_cost_baseline)"
   ],
   "id": "b6e7ff5b75d16830",
   "outputs": [
    {
     "name": "stdout",
     "output_type": "stream",
     "text": [
      "118.2415845 329.035395\n"
     ]
    }
   ],
   "execution_count": 6
  },
  {
   "metadata": {
    "ExecuteTime": {
     "end_time": "2024-12-02T14:41:28.067536Z",
     "start_time": "2024-12-02T14:41:28.065685Z"
    }
   },
   "cell_type": "code",
   "source": "329.035395 / 118.2415845",
   "id": "a1e862851a0c14b3",
   "outputs": [
    {
     "data": {
      "text/plain": [
       "2.782738377461442"
      ]
     },
     "execution_count": 7,
     "metadata": {},
     "output_type": "execute_result"
    }
   ],
   "execution_count": 7
  },
  {
   "metadata": {},
   "cell_type": "markdown",
   "source": "# OpenAI counting",
   "id": "71e74d8a088a9a7b"
  },
  {
   "metadata": {
    "ExecuteTime": {
     "end_time": "2024-12-02T14:41:35.353018Z",
     "start_time": "2024-12-02T14:41:28.068183Z"
    }
   },
   "cell_type": "code",
   "source": [
    "costs_by_system = {\n",
    "    \"full\": (5, 15, 5, 15),\n",
    "    \"root-fc\": (5, 15, 5, 15),\n",
    "    \"baseline\": (5, 15, 0, 0),\n",
    "    \"small-leaf\": (5, 15, 0.5, 1.5),\n",
    "    \"small-all\": (0.5, 1.5, 0.5, 1.5),\n",
    "    \"small-baseline\": (0.5, 1.5, 0, 0),\n",
    "    \"short-context\": (5, 15, 5, 15),\n",
    "    \"short-baseline\": (5, 15, 0, 0),\n",
    "}\n",
    "\n",
    "for system in [\n",
    "    \"full\",\n",
    "    \"root-fc\",\n",
    "    \"baseline\",\n",
    "    \"small-leaf\",\n",
    "    \"small-all\",\n",
    "    \"small-baseline\",\n",
    "    \"short-context\",\n",
    "    \"short-baseline\",\n",
    "]:\n",
    "    benchmark_cost = 0\n",
    "    for benchmark in [\"fanoutqa/dev/trial2\", \"travelplanner/validation\", \"webarena/test\"]:\n",
    "        root_in_cost, root_out_cost, del_in_cost, del_out_cost = costs_by_system[system]\n",
    "        total_cost, _ = count_system(\n",
    "            EXPERIMENTS / benchmark / system,\n",
    "            root_input_cost_1m=root_in_cost,\n",
    "            root_output_cost_1m=root_out_cost,\n",
    "            del_input_cost_1m=del_in_cost,\n",
    "            del_output_cost_1m=del_out_cost,\n",
    "        )\n",
    "        benchmark_cost += total_cost\n",
    "    print(f\"TOTAL SYSTEM COST: ${benchmark_cost}\")"
   ],
   "id": "3d0f0e35280b23b3",
   "outputs": [
    {
     "name": "stdout",
     "output_type": "stream",
     "text": [
      "========== /Users/andrew/Desktop/Code/_penn/redel-experiments/experiments/fanoutqa/dev/trial2/full ==========\n",
      "Avg prompt tokens root: 1040.8770226537217 ($0.005204385113268609)\n",
      "Avg output tokens root: 329.5210355987055 ($0.0049428155339805825)\n",
      "Avg prompt tokens del: 139570.63754045308 ($0.6978531877022655)\n",
      "Avg output tokens del: 733.1359223300971 ($0.010997038834951456)\n",
      "N: 309\n",
      "Total cost: $222.17020500000004\n",
      "========== /Users/andrew/Desktop/Code/_penn/redel-experiments/experiments/travelplanner/validation/full ==========\n",
      "Avg prompt tokens root: 10247.433333333332 ($0.05123716666666667)\n",
      "Avg output tokens root: 999.2222222222222 ($0.014988333333333333)\n",
      "Avg prompt tokens del: 7518.516666666666 ($0.037592583333333325)\n",
      "Avg output tokens del: 1628.2611111111112 ($0.024423916666666667)\n",
      "N: 180\n",
      "Total cost: $23.083559999999995\n",
      "========== /Users/andrew/Desktop/Code/_penn/redel-experiments/experiments/webarena/test/full ==========\n",
      "Avg prompt tokens root: 44021.18656716418 ($0.2201059328358209)\n",
      "Avg output tokens root: 192.84328358208955 ($0.0028926492537313434)\n",
      "Avg prompt tokens del: 357940.197761194 ($1.7897009888059703)\n",
      "Avg output tokens del: 944.5597014925373 ($0.01416839552238806)\n",
      "N: 268\n",
      "Total cost: $543.200615\n",
      "TOTAL SYSTEM COST: $788.45438\n",
      "========== /Users/andrew/Desktop/Code/_penn/redel-experiments/experiments/fanoutqa/dev/trial2/root-fc ==========\n",
      "Avg prompt tokens root: 54345.824104234525 ($0.27172912052117265)\n",
      "Avg output tokens root: 292.0618892508143 ($0.0043809283387622145)\n",
      "Avg prompt tokens del: 38281.10749185668 ($0.1914055374592834)\n",
      "Avg output tokens del: 264.07817589576547 ($0.003961172638436482)\n",
      "N: 307\n",
      "Total cost: $144.743365\n",
      "========== /Users/andrew/Desktop/Code/_penn/redel-experiments/experiments/travelplanner/validation/root-fc ==========\n",
      "Avg prompt tokens root: 37089.63888888889 ($0.18544819444444444)\n",
      "Avg output tokens root: 1224.6055555555556 ($0.018369083333333334)\n",
      "Avg prompt tokens del: 30.95 ($0.00015475)\n",
      "Avg output tokens del: 5.877777777777778 ($8.816666666666668e-05)\n",
      "N: 180\n",
      "Total cost: $36.730835\n",
      "========== /Users/andrew/Desktop/Code/_penn/redel-experiments/experiments/webarena/test/root-fc ==========\n",
      "Avg prompt tokens root: 65438.14503816794 ($0.3271907251908397)\n",
      "Avg output tokens root: 180.1908396946565 ($0.0027028625954198474)\n",
      "Avg prompt tokens del: 221026.48091603053 ($1.1051324045801525)\n",
      "Avg output tokens del: 584.7709923664122 ($0.008771564885496184)\n",
      "N: 262\n",
      "Total cost: $378.27496\n",
      "TOTAL SYSTEM COST: $559.7491600000001\n",
      "========== /Users/andrew/Desktop/Code/_penn/redel-experiments/experiments/fanoutqa/dev/trial2/baseline ==========\n",
      "Avg prompt tokens root: 65899.60586319218 ($0.3294980293159609)\n",
      "Avg output tokens root: 324.8371335504886 ($0.004872557003257329)\n",
      "Avg prompt tokens del: 0.0 ($0.0)\n",
      "Avg output tokens del: 0.0 ($0.0)\n",
      "N: 307\n",
      "Total cost: $102.65177\n",
      "========== /Users/andrew/Desktop/Code/_penn/redel-experiments/experiments/travelplanner/validation/baseline ==========\n",
      "Avg prompt tokens root: 42591.40555555555 ($0.21295702777777775)\n",
      "Avg output tokens root: 1224.5611111111111 ($0.01836841666666667)\n",
      "Avg prompt tokens del: 0.0 ($0.0)\n",
      "Avg output tokens del: 0.0 ($0.0)\n",
      "N: 180\n",
      "Total cost: $41.63858\n",
      "========== /Users/andrew/Desktop/Code/_penn/redel-experiments/experiments/webarena/test/baseline ==========\n",
      "Avg prompt tokens root: 145537.47430830039 ($0.727687371541502)\n",
      "Avg output tokens root: 168.6798418972332 ($0.002530197628458498)\n",
      "Avg prompt tokens del: 0.0 ($0.0)\n",
      "Avg output tokens del: 0.0 ($0.0)\n",
      "N: 253\n",
      "Total cost: $184.745045\n",
      "TOTAL SYSTEM COST: $329.035395\n",
      "========== /Users/andrew/Desktop/Code/_penn/redel-experiments/experiments/fanoutqa/dev/trial2/small-leaf ==========\n",
      "Avg prompt tokens root: 1913.8733766233765 ($0.009569366883116883)\n",
      "Avg output tokens root: 363.4642857142857 ($0.0054519642857142865)\n",
      "Avg prompt tokens del: 28171.0 ($0.0140855)\n",
      "Avg output tokens del: 509.6818181818182 ($0.0007645227272727273)\n",
      "N: 308\n",
      "Total cost: $9.200377000000001\n",
      "========== /Users/andrew/Desktop/Code/_penn/redel-experiments/experiments/travelplanner/validation/small-leaf ==========\n",
      "Avg prompt tokens root: 7912.888888888889 ($0.039564444444444444)\n",
      "Avg output tokens root: 1018.7333333333333 ($0.015281)\n",
      "Avg prompt tokens del: 9192.044444444444 ($0.0045960222222222215)\n",
      "Avg output tokens del: 1121.0833333333333 ($0.001681625)\n",
      "N: 180\n",
      "Total cost: $11.0021565\n",
      "========== /Users/andrew/Desktop/Code/_penn/redel-experiments/experiments/webarena/test/small-leaf ==========\n",
      "Avg prompt tokens root: 55456.268 ($0.27728134)\n",
      "Avg output tokens root: 171.884 ($0.0025782599999999998)\n",
      "Avg prompt tokens del: 222370.916 ($0.111185458)\n",
      "Avg output tokens del: 740.764 ($0.001111146)\n",
      "N: 250\n",
      "Total cost: $98.039051\n",
      "TOTAL SYSTEM COST: $118.2415845\n",
      "========== /Users/andrew/Desktop/Code/_penn/redel-experiments/experiments/fanoutqa/dev/trial2/small-all ==========\n",
      "Avg prompt tokens root: 2209.470802919708 ($0.001104735401459854)\n",
      "Avg output tokens root: 301.26277372262774 ($0.0004518941605839416)\n",
      "Avg prompt tokens del: 16030.043795620439 ($0.00801502189781022)\n",
      "Avg output tokens del: 372.45985401459853 ($0.0005586897810218978)\n",
      "N: 274\n",
      "Total cost: $2.7757135\n",
      "========== /Users/andrew/Desktop/Code/_penn/redel-experiments/experiments/travelplanner/validation/small-all ==========\n",
      "Avg prompt tokens root: 3961.688888888889 ($0.0019808444444444446)\n",
      "Avg output tokens root: 857.2444444444444 ($0.0012858666666666666)\n",
      "Avg prompt tokens del: 593.4 ($0.0002967)\n",
      "Avg output tokens del: 67.07777777777778 ($0.00010061666666666667)\n",
      "N: 180\n",
      "Total cost: $0.659525\n",
      "========== /Users/andrew/Desktop/Code/_penn/redel-experiments/experiments/webarena/test/small-all ==========\n",
      "Avg prompt tokens root: 16690.56923076923 ($0.008345284615384614)\n",
      "Avg output tokens root: 171.84230769230768 ($0.0002577634615384615)\n",
      "Avg prompt tokens del: 164111.70769230768 ($0.08205585384615384)\n",
      "Avg output tokens del: 554.3615384615384 ($0.0008315423076923076)\n",
      "N: 260\n",
      "Total cost: $23.787515499999998\n",
      "TOTAL SYSTEM COST: $27.222754\n",
      "========== /Users/andrew/Desktop/Code/_penn/redel-experiments/experiments/fanoutqa/dev/trial2/small-baseline ==========\n",
      "Avg prompt tokens root: 7386.7459283387625 ($0.0036933729641693814)\n",
      "Avg output tokens root: 225.62540716612378 ($0.0003384381107491857)\n",
      "Avg prompt tokens del: 0.0 ($0.0)\n",
      "Avg output tokens del: 0.0 ($0.0)\n",
      "N: 307\n",
      "Total cost: $1.237766\n",
      "========== /Users/andrew/Desktop/Code/_penn/redel-experiments/experiments/travelplanner/validation/small-baseline ==========\n",
      "Avg prompt tokens root: 26094.745762711864 ($0.013047372881355932)\n",
      "Avg output tokens root: 853.2881355932203 ($0.0012799322033898305)\n",
      "Avg prompt tokens del: 0.0 ($0.0)\n",
      "Avg output tokens del: 0.0 ($0.0)\n",
      "N: 177\n",
      "Total cost: $2.535933\n",
      "========== /Users/andrew/Desktop/Code/_penn/redel-experiments/experiments/webarena/test/small-baseline ==========\n",
      "Avg prompt tokens root: 103224.50214592274 ($0.05161225107296137)\n",
      "Avg output tokens root: 296.6523605150215 ($0.00044497854077253223)\n",
      "Avg prompt tokens del: 0.0 ($0.0)\n",
      "Avg output tokens del: 0.0 ($0.0)\n",
      "N: 233\n",
      "Total cost: $12.129334499999999\n",
      "TOTAL SYSTEM COST: $15.9030335\n",
      "========== /Users/andrew/Desktop/Code/_penn/redel-experiments/experiments/fanoutqa/dev/trial2/short-context ==========\n",
      "Avg prompt tokens root: 1026.25 ($0.00513125)\n",
      "Avg output tokens root: 313.61038961038963 ($0.004704155844155845)\n",
      "Avg prompt tokens del: 21682.85714285714 ($0.10841428571428571)\n",
      "Avg output tokens del: 740.8571428571429 ($0.011112857142857143)\n",
      "N: 308\n",
      "Total cost: $39.843665\n",
      "========== /Users/andrew/Desktop/Code/_penn/redel-experiments/experiments/webarena/test/short-context ==========\n",
      "Avg prompt tokens root: 14275.925925925925 ($0.07137962962962963)\n",
      "Avg output tokens root: 176.64550264550263 ($0.002649682539682539)\n",
      "Avg prompt tokens del: 121619.61375661376 ($0.6080980687830688)\n",
      "Avg output tokens del: 1016.1164021164021 ($0.015241746031746032)\n",
      "N: 189\n",
      "Total cost: $131.802765\n",
      "TOTAL SYSTEM COST: $171.64643\n",
      "========== /Users/andrew/Desktop/Code/_penn/redel-experiments/experiments/fanoutqa/dev/trial2/short-baseline ==========\n",
      "Avg prompt tokens root: 7668.583870967742 ($0.03834291935483871)\n",
      "Avg output tokens root: 391.1290322580645 ($0.005866935483870968)\n",
      "Avg prompt tokens del: 0.0 ($0.0)\n",
      "Avg output tokens del: 0.0 ($0.0)\n",
      "N: 310\n",
      "Total cost: $13.705055\n",
      "========== /Users/andrew/Desktop/Code/_penn/redel-experiments/experiments/webarena/test/short-baseline ==========\n",
      "Avg prompt tokens root: 60059.60588235294 ($0.3002980294117647)\n",
      "Avg output tokens root: 294.58235294117645 ($0.004418735294117647)\n",
      "Avg prompt tokens del: 0.0 ($0.0)\n",
      "Avg output tokens del: 0.0 ($0.0)\n",
      "N: 170\n",
      "Total cost: $51.801849999999995\n",
      "TOTAL SYSTEM COST: $65.50690499999999\n"
     ]
    }
   ],
   "execution_count": 8
  },
  {
   "metadata": {},
   "cell_type": "markdown",
   "source": "# Claude counting",
   "id": "112bd817e4206205"
  },
  {
   "metadata": {
    "ExecuteTime": {
     "end_time": "2024-12-02T14:41:47.006692Z",
     "start_time": "2024-12-02T14:41:46.062204Z"
    }
   },
   "cell_type": "code",
   "source": [
    "costs_by_system = {\n",
    "    \"full\": (3, 15, 3, 15),\n",
    "    \"root-fc\": (3, 15, 3, 15),\n",
    "    \"baseline\": (3, 15, 0, 0),\n",
    "    \"small-leaf\": (3, 15, 1, 5),\n",
    "    \"small-all\": (1, 5, 1, 5),\n",
    "    \"small-baseline\": (1, 5, 0, 0),\n",
    "    \"short-context\": (3, 15, 3, 15),\n",
    "    \"short-baseline\": (3, 15, 0, 0),\n",
    "}\n",
    "\n",
    "for system in [\n",
    "    # \"full\",\n",
    "    # \"root-fc\",\n",
    "    \"baseline\",\n",
    "    # \"small-leaf\",\n",
    "    # \"small-all\",\n",
    "    # \"small-baseline\",\n",
    "    \"short-context\",\n",
    "    \"short-baseline\",\n",
    "]:\n",
    "    benchmark_cost = 0\n",
    "    for benchmark in [\"fanoutqa/claude\", \"travelplanner/claude\", \"webarena/claude\"]:\n",
    "        root_in_cost, root_out_cost, del_in_cost, del_out_cost = costs_by_system[system]\n",
    "        total_cost, _ = count_system(\n",
    "            EXPERIMENTS / benchmark / system,\n",
    "            root_input_cost_1m=root_in_cost,\n",
    "            root_output_cost_1m=root_out_cost,\n",
    "            del_input_cost_1m=del_in_cost,\n",
    "            del_output_cost_1m=del_out_cost,\n",
    "        )\n",
    "        benchmark_cost += total_cost\n",
    "    print(f\"TOTAL SYSTEM COST: ${benchmark_cost}\")"
   ],
   "id": "593cf8ffb8b7c38a",
   "outputs": [
    {
     "name": "stdout",
     "output_type": "stream",
     "text": [
      "========== /Users/andrew/Desktop/Code/_penn/redel-experiments/experiments/fanoutqa/claude/baseline ==========\n",
      "Avg prompt tokens root: 207894.3074433657 ($0.623682922330097)\n",
      "Avg output tokens root: 581.2556634304207 ($0.008718834951456311)\n",
      "Avg prompt tokens del: 0.0 ($0.0)\n",
      "Avg output tokens del: 0.0 ($0.0)\n",
      "N: 309\n",
      "Total cost: $195.412143\n",
      "TOTAL SYSTEM COST: $195.412143\n",
      "========== /Users/andrew/Desktop/Code/_penn/redel-experiments/experiments/fanoutqa/claude/short-context ==========\n",
      "Avg prompt tokens root: 5315.0 ($0.015945)\n",
      "Avg output tokens root: 495.7605177993527 ($0.007436407766990291)\n",
      "Avg prompt tokens del: 51123.95469255663 ($0.1533718640776699)\n",
      "Avg output tokens del: 1808.7216828478965 ($0.02713082524271845)\n",
      "N: 309\n",
      "Total cost: $63.000186\n",
      "TOTAL SYSTEM COST: $63.000186\n",
      "========== /Users/andrew/Desktop/Code/_penn/redel-experiments/experiments/fanoutqa/claude/short-baseline ==========\n",
      "Avg prompt tokens root: 19453.951612903227 ($0.05836185483870968)\n",
      "Avg output tokens root: 600.1290322580645 ($0.009001935483870968)\n",
      "Avg prompt tokens del: 0.0 ($0.0)\n",
      "Avg output tokens del: 0.0 ($0.0)\n",
      "N: 310\n",
      "Total cost: $20.882775000000002\n",
      "TOTAL SYSTEM COST: $20.882775000000002\n"
     ]
    }
   ],
   "execution_count": 10
  },
  {
   "metadata": {},
   "cell_type": "code",
   "outputs": [],
   "execution_count": null,
   "source": "",
   "id": "ac900e5a2253726e"
  }
 ],
 "metadata": {
  "kernelspec": {
   "display_name": "Python 3",
   "language": "python",
   "name": "python3"
  },
  "language_info": {
   "codemirror_mode": {
    "name": "ipython",
    "version": 2
   },
   "file_extension": ".py",
   "mimetype": "text/x-python",
   "name": "python",
   "nbconvert_exporter": "python",
   "pygments_lexer": "ipython2",
   "version": "2.7.6"
  }
 },
 "nbformat": 4,
 "nbformat_minor": 5
}
